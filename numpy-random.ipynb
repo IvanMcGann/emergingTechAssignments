{
 "cells": [
  {
   "cell_type": "markdown",
   "metadata": {},
   "source": [
    "# Numpy Random Notebook\n",
    "***"
   ]
  },
  {
   "cell_type": "markdown",
   "metadata": {},
   "source": [
    "### Link's used\n",
    "### https://docs.python.org/2/tutorial/introduction.html\n",
    "### https://jupyter-notebook.readthedocs.io/en/stable/examples/Notebook/Working%20With%20Markdown%20Cells.html\n",
    "\n",
    "### https://www.ibm.com/support/knowledgecenter/SSQNUZ_current/com.ibm.icpdata.doc/dsx/markd-jupyter.html\n"
   ]
  },
  {
   "cell_type": "markdown",
   "metadata": {},
   "source": [
    "Import matplotlib and numpy packages. Matplotlib allows the user to create histogram, bar charts, errorcharts and plots using information input by the user. NumPy is a Python library, allows support for multi-dimensional arrays and matrices, along with mathematical functions to operate on these arrays."
   ]
  },
  {
   "cell_type": "code",
   "execution_count": 1,
   "metadata": {},
   "outputs": [],
   "source": [
    "import numpy as np\n",
    "import matplotlib.pyplot as plt"
   ]
  },
  {
   "cell_type": "markdown",
   "metadata": {},
   "source": [
    "Randn returns a random value number from the standard normal distribution. The standard normal distribution is a normal distribution with a mean of zero and standard deviation of 1. The standard normal distribution is centered at zero and the degree to which a given measurement deviates from the mean is given by the standard deviation. Standard deviation is a quantity expressing by how much the members of a group differ from the mean value for the group."
   ]
  },
  {
   "cell_type": "markdown",
   "metadata": {},
   "source": [
    "Randn() returns a random value number from the standard normal distribution. "
   ]
  },
  {
   "cell_type": "code",
   "execution_count": 2,
   "metadata": {},
   "outputs": [
    {
     "data": {
      "text/plain": [
       "-0.2936518522508966"
      ]
     },
     "execution_count": 2,
     "metadata": {},
     "output_type": "execute_result"
    }
   ],
   "source": [
    "np.random.randn()"
   ]
  },
  {
   "cell_type": "markdown",
   "metadata": {},
   "source": [
    "Two dimensional Array populated by random values"
   ]
  },
  {
   "cell_type": "code",
   "execution_count": 3,
   "metadata": {},
   "outputs": [
    {
     "data": {
      "text/plain": [
       "array([[ 1.38784464,  1.33012136],\n",
       "       [ 0.83351744,  1.42004815],\n",
       "       [-0.4152626 ,  0.98835629]])"
      ]
     },
     "execution_count": 3,
     "metadata": {},
     "output_type": "execute_result"
    }
   ],
   "source": [
    "np.random.randn(3, 2) "
   ]
  },
  {
   "cell_type": "markdown",
   "metadata": {},
   "source": [
    "Return a random number from the uniform distribution between 0 and 1."
   ]
  },
  {
   "cell_type": "code",
   "execution_count": 4,
   "metadata": {},
   "outputs": [
    {
     "data": {
      "text/plain": [
       "0.436576641819044"
      ]
     },
     "execution_count": 4,
     "metadata": {},
     "output_type": "execute_result"
    }
   ],
   "source": [
    "np.random.rand()"
   ]
  },
  {
   "cell_type": "markdown",
   "metadata": {},
   "source": [
    "Return a single random value/s from the given arguements."
   ]
  },
  {
   "cell_type": "code",
   "execution_count": 5,
   "metadata": {},
   "outputs": [
    {
     "data": {
      "text/plain": [
       "array([0.23978817, 0.55101708])"
      ]
     },
     "execution_count": 5,
     "metadata": {},
     "output_type": "execute_result"
    }
   ],
   "source": [
    "np.random.rand(2)"
   ]
  },
  {
   "cell_type": "markdown",
   "metadata": {},
   "source": [
    "Return a 2 dimensional matrix of random values."
   ]
  },
  {
   "cell_type": "code",
   "execution_count": 6,
   "metadata": {},
   "outputs": [
    {
     "data": {
      "text/plain": [
       "array([[0.6055805 , 0.66798146, 0.14095092],\n",
       "       [0.68428753, 0.05163291, 0.88075053]])"
      ]
     },
     "execution_count": 6,
     "metadata": {},
     "output_type": "execute_result"
    }
   ],
   "source": [
    "np.random.rand(2,3)"
   ]
  },
  {
   "cell_type": "markdown",
   "metadata": {},
   "source": [
    "Return a random value 3 dimensional matrix. "
   ]
  },
  {
   "cell_type": "code",
   "execution_count": 7,
   "metadata": {},
   "outputs": [
    {
     "data": {
      "text/plain": [
       "array([[[0.46948555, 0.8202923 , 0.32383153, 0.85081798, 0.14249566],\n",
       "        [0.39104866, 0.95503582, 0.15403749, 0.89993515, 0.52517456],\n",
       "        [0.40034594, 0.52683602, 0.96990985, 0.21596675, 0.23521679]],\n",
       "\n",
       "       [[0.76668965, 0.70534048, 0.88953019, 0.58945672, 0.01970808],\n",
       "        [0.67325069, 0.56373692, 0.12477762, 0.55562738, 0.73764277],\n",
       "        [0.91360362, 0.68844317, 0.41323388, 0.515467  , 0.22201534]]])"
      ]
     },
     "execution_count": 7,
     "metadata": {},
     "output_type": "execute_result"
    }
   ],
   "source": [
    "np.random.rand(2,3,5)"
   ]
  },
  {
   "cell_type": "markdown",
   "metadata": {},
   "source": [
    "### Uniform Distribution"
   ]
  },
  {
   "cell_type": "markdown",
   "metadata": {},
   "source": [
    "Generates a random number between 0 and 1. \n",
    "\n",
    "\n",
    "The uniform distribution is a simpler probability distributions in statistics. It's a continuous distribution, this means that it takes values within a specified range, e.g. between 0 and 1. The number is normally a float value type if high or low but can be an integer; default value is 0.\n",
    "The probability density function for a uniform distribution taking values is:\n",
    "\n",
    "\n",
    "$ p(x) = \\frac{1}{b-a} $\n",
    "\n",
    "\t\n",
    "\n",
    "anywhere within the interval a, b and 0 elsewhere. \n",
    "\n",
    "\n",
    "When high == low, values of low will be returned. If high < low, the results are undefined and may eventually lead to an error. an error."
   ]
  },
  {
   "cell_type": "code",
   "execution_count": 8,
   "metadata": {},
   "outputs": [
    {
     "data": {
      "text/plain": [
       "0.09456709492184734"
      ]
     },
     "execution_count": 8,
     "metadata": {},
     "output_type": "execute_result"
    }
   ],
   "source": [
    "np.random.uniform()"
   ]
  },
  {
   "cell_type": "markdown",
   "metadata": {},
   "source": [
    "Generates a random number between the 2 parameter values."
   ]
  },
  {
   "cell_type": "code",
   "execution_count": 9,
   "metadata": {},
   "outputs": [
    {
     "data": {
      "text/plain": [
       "1.2576998764082483"
      ]
     },
     "execution_count": 9,
     "metadata": {},
     "output_type": "execute_result"
    }
   ],
   "source": [
    "np.random.uniform(1,4)"
   ]
  },
  {
   "cell_type": "markdown",
   "metadata": {},
   "source": []
  },
  {
   "cell_type": "code",
   "execution_count": 10,
   "metadata": {},
   "outputs": [],
   "source": [
    "uniNum = np.random.uniform(-1,1,7)"
   ]
  },
  {
   "cell_type": "markdown",
   "metadata": {},
   "source": []
  },
  {
   "cell_type": "code",
   "execution_count": 11,
   "metadata": {},
   "outputs": [
    {
     "data": {
      "image/png": "[encoded data removed]",
      "text/plain": [
       "<Figure size 432x288 with 1 Axes>"
      ]
     },
     "metadata": {
      "needs_background": "light"
     },
     "output_type": "display_data"
    }
   ],
   "source": [
    "count, bins, ignored = plt.hist(uniNum, 15, density=True)\n",
    "plt.plot(bins, np.ones_like(bins), linewidth=8, color='r')\n",
    "plt.show()"
   ]
  },
  {
   "cell_type": "markdown",
   "metadata": {},
   "source": [
    "### Binominal Distribution"
   ]
  },
  {
   "cell_type": "markdown",
   "metadata": {},
   "source": [
    "A binomial distribution can be defined as simply the probability of a success or failure outcome in an experiment or survey that is repeated multiple times. The binomial is a type of distribution that has only those two possible outcomes. (the prefix 'bi' means two, or twice). "
   ]
  },
  {
   "cell_type": "markdown",
   "metadata": {},
   "source": [
    "For example, a coin toss has only two possible outcomes: heads(0) or tails(1) and taking a test could have two possible outcomes: pass or fail."
   ]
  },
  {
   "cell_type": "code",
   "execution_count": 19,
   "metadata": {},
   "outputs": [
    {
     "data": {
      "text/plain": [
       "array([0, 0, 1, 1, 0, 0, 0, 0, 1, 1])"
      ]
     },
     "execution_count": 19,
     "metadata": {},
     "output_type": "execute_result"
    }
   ],
   "source": [
    "tails, prob = 1, 0.5  # number of trials, probability of each trial\n",
    "toss = np.random.binomial(tails, prob, 10)\n",
    "toss"
   ]
  },
  {
   "cell_type": "code",
   "execution_count": null,
   "metadata": {},
   "outputs": [],
   "source": [
    "# tweak n, p, nPoints and observe the result.\n",
    "n = 2\n",
    "p = 0.5\n",
    "nPoints = 10\n",
    "xBinom = np.random.binomial(n,p,size=nPoints)\n",
    "\n",
    "# Let's plot up the distribution.\n",
    "plt.figure()\n",
    "plt.subplot(121)\n",
    "plt.plot(xBinom, 'bo', alpha=0.5)\n",
    "plt.ylim(0,np.max(xBinom)+1)\n",
    "plt.xlabel('Row number')\n",
    "plt.ylabel('r successes')\n",
    "plt.grid()\n",
    "plt.subplot(122)\n",
    "nB, dum, dum = plt.hist(xBinom, bins=25,color='b',alpha=0.5)\n",
    "#plt.xlim(0,n)\n",
    "plt.xlabel('r successes')\n",
    "plt.ylabel('N(r successes)')\n",
    "plt.title('n=%i, p=%.2f, N=%i \"experiments\"' % (n,p,nPoints))\n",
    "plt.grid()"
   ]
  },
  {
   "cell_type": "markdown",
   "metadata": {},
   "source": [
    "### Standard Exponential Distribution"
   ]
  },
  {
   "cell_type": "code",
   "execution_count": null,
   "metadata": {},
   "outputs": [],
   "source": [
    "n = np.random.standard_exponential((2,2))\n",
    "n"
   ]
  },
  {
   "cell_type": "code",
   "execution_count": null,
   "metadata": {},
   "outputs": [],
   "source": []
  },
  {
   "cell_type": "code",
   "execution_count": null,
   "metadata": {},
   "outputs": [],
   "source": [
    "import matplotlib.pyplot as plt\n",
    "h = plt.hist(np.random.triangular(-4, 0, 8, 100000), bins=500, density=True)\n",
    "plt.show()"
   ]
  },
  {
   "cell_type": "code",
   "execution_count": null,
   "metadata": {},
   "outputs": [],
   "source": [
    "a = np.floor(10*np.random.random((3,4)))\n",
    "a\n",
    "#a.shape"
   ]
  },
  {
   "cell_type": "code",
   "execution_count": null,
   "metadata": {},
   "outputs": [],
   "source": [
    "##### The Poisson distribution is a discrete probability distribution for the counts of\n",
    "##### events that occur randomly in a given interval of time (or space)."
   ]
  },
  {
   "cell_type": "code",
   "execution_count": null,
   "metadata": {},
   "outputs": [],
   "source": [
    "#Poisson example\n",
    "import numpy as np\n",
    "ses = np.random.poisson(5, 10000)\n",
    "#Display histogram of the sample:\n",
    "import matplotlib.pyplot as plt\n",
    "count, bins, ignored = plt.hist(ses, 18, density=True)\n",
    "plt.show()"
   ]
  },
  {
   "cell_type": "code",
   "execution_count": null,
   "metadata": {},
   "outputs": [],
   "source": [
    "shape, scale = 2., 1. # mean and width\n",
    "s = np.random.standard_gamma(shape, 1000000)\n",
    "#Display the histogram of the samples, along with the probability density function:\n",
    "\n",
    "import matplotlib.pyplot as plt\n",
    "import scipy.special as sps\n",
    "count, bins, ignored = plt.hist(s, 50, density=True)\n",
    "y = bins**(shape-1) * ((np.exp(-bins/scale))/ (sps.gamma(shape) * scale**shape))\n",
    "plt.plot(bins, y, linewidth=2, color='r')"
   ]
  },
  {
   "cell_type": "code",
   "execution_count": null,
   "metadata": {},
   "outputs": [],
   "source": [
    "import numpy as np\n",
    "\n",
    "a = 5. # shape\n",
    "samples = 1000\n",
    "s = np.random.power(a, samples)\n",
    "#Display the histogram of the samples, along with the probability density function:\n",
    "\n",
    "\n",
    "import matplotlib.pyplot as plt\n",
    "count, bins, ignored = plt.hist(s, bins=30)\n",
    "x = np.linspace(0, 1, 100)\n",
    "y = a*x**(a-1.)\n",
    "normed_y = samples*np.diff(bins)[0]*y\n",
    "plt.plot(x, normed_y)\n",
    "plt.show()\n",
    "\n",
    "\n",
    "from scipy import stats\n",
    "rvs = np.random.power(5, 1000000)\n",
    "rvsp = np.random.pareto(5, 1000000)\n",
    "xx = np.linspace(0,1,100)\n",
    "powpdf = stats.powerlaw.pdf(xx,5)\n",
    "\n",
    "plt.figure()\n",
    "plt.hist(rvs, bins=50, density=True)\n",
    "plt.plot(xx,powpdf,'r-')\n",
    "plt.title('np.random.power(5)')\n",
    "\n",
    "plt.figure()\n",
    "plt.hist(1./(1.+rvsp), bins=50, density=True)\n",
    "plt.plot(xx,powpdf,'r-')\n",
    "plt.title('inverse of 1 + np.random.pareto(5)')\n",
    "\n",
    "plt.figure()\n",
    "plt.hist(1./(1.+rvsp), bins=50, density=True)\n",
    "plt.plot(xx,powpdf,'r-')\n",
    "plt.title('inverse of stats.pareto(5)')"
   ]
  },
  {
   "cell_type": "markdown",
   "metadata": {},
   "source": [
    "### Random Renerator - Seed"
   ]
  },
  {
   "cell_type": "markdown",
   "metadata": {},
   "source": [
    "Random number or data generated by python random module are not truly random, it is pseudo-random (deterministic). \n",
    "It generates the numbers on the basis of a value. This value is called a seed value. Numbers generated by the random module depend on the seed value. \n",
    "The seed value normally is the previous number generated by the generator. But when the generator is being used for the first time there cannot be a previous value. Using a seed value we can initialize the pseudorandom number generator. Random seeds are often generated from the state of the computer system (such as time which is Python's default method), a cryptographically secure pseudorandom number generator or from a hardware random number generator."
   ]
  },
  {
   "cell_type": "code",
   "execution_count": null,
   "metadata": {},
   "outputs": [],
   "source": [
    "import random\n",
    "print (\"Random number with seed 40\")\n",
    "random.seed( 40 ) #first call\n",
    "print (\"first - \", random.randint(25,50))\n",
    "#generate a different random number as previous value is used as a seed\n",
    "print (\"Second - \", random.randint(25,50))\n",
    "#will generate a same random number as first one because seed value is same\n",
    "random.seed( 30 ) # second call\n",
    "print (\"Third - \", random.randint(25,50))"
   ]
  },
  {
   "cell_type": "code",
   "execution_count": null,
   "metadata": {},
   "outputs": [],
   "source": []
  },
  {
   "cell_type": "code",
   "execution_count": null,
   "metadata": {},
   "outputs": [],
   "source": []
  }
 ],
 "metadata": {
  "kernelspec": {
   "display_name": "Python 3",
   "language": "python",
   "name": "python3"
  },
  "language_info": {
   "codemirror_mode": {
    "name": "ipython",
    "version": 3
   },
   "file_extension": ".py",
   "mimetype": "text/x-python",
   "name": "python",
   "nbconvert_exporter": "python",
   "pygments_lexer": "ipython3",
   "version": "3.6.6"
  }
 },
 "nbformat": 4,
 "nbformat_minor": 2
}
