{
 "cells": [
  {
   "cell_type": "markdown",
   "metadata": {},
   "source": [
    "# Numpy Random Notebook"
   ]
  },
  {
   "cell_type": "markdown",
   "metadata": {},
   "source": [
    "Link's used\n",
    "https://docs.python.org/2/tutorial/introduction.html\n",
    "https://jupyter-notebook.readthedocs.io/en/stable/examples/Notebook/Working%20With%20Markdown%20Cells.html\n",
    "\n",
    "https://www.ibm.com/support/knowledgecenter/SSQNUZ_current/com.ibm.icpdata.doc/dsx/markd-jupyter.html\n"
   ]
  },
  {
   "cell_type": "markdown",
   "metadata": {},
   "source": [
    "Import matplotlib and numpy libraries. Matplotlib allows the user to create histogram, bar charts, errorcharts and plots using information input by the user. NumPy is a Python library, allows support for multi-dimensional arrays and matrices, along with mathematical functions to operate on these arrays."
   ]
  },
  {
   "cell_type": "markdown",
   "metadata": {},
   "source": [
    "### Import Libraries"
   ]
  },
  {
   "cell_type": "code",
   "execution_count": 1,
   "metadata": {},
   "outputs": [],
   "source": [
    "import numpy as np\n",
    "import matplotlib.pyplot as plt"
   ]
  },
  {
   "cell_type": "markdown",
   "metadata": {},
   "source": [
    "Randn returns a random value number from the standard normal distribution. The standard normal distribution is a normal distribution with a mean of zero and standard deviation of 1. The standard normal distribution is centered at zero and the degree to which a given measurement deviates from the mean is given by the standard deviation. Standard deviation is a quantity expressing by how much the members of a group differ from the mean value for the group."
   ]
  },
  {
   "cell_type": "markdown",
   "metadata": {},
   "source": [
    "Randn() returns a random value number from the standard normal distribution. "
   ]
  },
  {
   "cell_type": "code",
   "execution_count": 2,
   "metadata": {},
   "outputs": [
    {
     "data": {
      "text/plain": [
       "1.3092138614010673"
      ]
     },
     "execution_count": 2,
     "metadata": {},
     "output_type": "execute_result"
    }
   ],
   "source": [
    "np.random.randn()"
   ]
  },
  {
   "cell_type": "markdown",
   "metadata": {},
   "source": [
    "Two dimensional Array populated by random values"
   ]
  },
  {
   "cell_type": "code",
   "execution_count": 3,
   "metadata": {},
   "outputs": [
    {
     "data": {
      "text/plain": [
       "array([[-1.3993376 , -0.54286927],\n",
       "       [-0.23178892, -0.12259964],\n",
       "       [ 0.06935409,  0.05775794]])"
      ]
     },
     "execution_count": 3,
     "metadata": {},
     "output_type": "execute_result"
    }
   ],
   "source": [
    "np.random.randn(3, 2) "
   ]
  },
  {
   "cell_type": "markdown",
   "metadata": {},
   "source": [
    "Rand returns a random number from the uniform distribution between 0 and 1."
   ]
  },
  {
   "cell_type": "code",
   "execution_count": 4,
   "metadata": {},
   "outputs": [
    {
     "data": {
      "text/plain": [
       "0.6776485848205067"
      ]
     },
     "execution_count": 4,
     "metadata": {},
     "output_type": "execute_result"
    }
   ],
   "source": [
    "np.random.rand()"
   ]
  },
  {
   "cell_type": "markdown",
   "metadata": {},
   "source": [
    "Return a single random value/s from the given arguements."
   ]
  },
  {
   "cell_type": "code",
   "execution_count": 5,
   "metadata": {},
   "outputs": [
    {
     "data": {
      "text/plain": [
       "array([0.8587528 , 0.27638982])"
      ]
     },
     "execution_count": 5,
     "metadata": {},
     "output_type": "execute_result"
    }
   ],
   "source": [
    "np.random.rand(2)"
   ]
  },
  {
   "cell_type": "markdown",
   "metadata": {},
   "source": [
    "Return a 2 dimensional matrix of random values."
   ]
  },
  {
   "cell_type": "code",
   "execution_count": 6,
   "metadata": {},
   "outputs": [
    {
     "data": {
      "text/plain": [
       "array([[0.45412561, 0.92525784, 0.45150102],\n",
       "       [0.83670065, 0.84816517, 0.52957646]])"
      ]
     },
     "execution_count": 6,
     "metadata": {},
     "output_type": "execute_result"
    }
   ],
   "source": [
    "np.random.rand(2,3)"
   ]
  },
  {
   "cell_type": "markdown",
   "metadata": {},
   "source": [
    "Return a random value 3 dimensional matrix. "
   ]
  },
  {
   "cell_type": "code",
   "execution_count": 7,
   "metadata": {},
   "outputs": [
    {
     "data": {
      "text/plain": [
       "array([[[0.59705497, 0.01847019, 0.49409163, 0.24503083, 0.19667912],\n",
       "        [0.75181276, 0.36329717, 0.49895522, 0.72495528, 0.35346615],\n",
       "        [0.7690374 , 0.92359694, 0.68957023, 0.3489602 , 0.28132199]],\n",
       "\n",
       "       [[0.91476758, 0.37382843, 0.35110831, 0.39399601, 0.33681941],\n",
       "        [0.47947623, 0.79697279, 0.17230088, 0.7255256 , 0.21085985],\n",
       "        [0.30160392, 0.52027854, 0.36948601, 0.14931241, 0.45892801]]])"
      ]
     },
     "execution_count": 7,
     "metadata": {},
     "output_type": "execute_result"
    }
   ],
   "source": [
    "np.random.rand(2,3,5)"
   ]
  },
  {
   "cell_type": "markdown",
   "metadata": {},
   "source": [
    "### Normal Distribution\n",
    "***"
   ]
  },
  {
   "cell_type": "markdown",
   "metadata": {},
   "source": [
    "Normal Distribution is a continuous probability distribution represented with a normal curve. Probability distribution describes how the values of a random variable is distributed. It is a statistical function that describes all  possible values and likelihoods a random variable can take within a given range. It is also known as Bell Curve due to the shape of the curve or is more theoretically known as, Gaussian distribution. The curve is symmetric at the center (around the mean, below represented by $μ$. Exactly half of the values are to the left of center and exactly half the values are to the right. Meaning that the mean, mode and median of a normal distribution are all equal. "
   ]
  },
  {
   "cell_type": "code",
   "execution_count": 26,
   "metadata": {},
   "outputs": [
    {
     "data": {
      "text/html": [
       "<img src=\"https://upload.wikimedia.org/wikipedia/commons/4/4f/Standard_deviation_diagram.png\"/>"
      ],
      "text/plain": [
       "<IPython.core.display.Image object>"
      ]
     },
     "execution_count": 26,
     "metadata": {},
     "output_type": "execute_result"
    }
   ],
   "source": [
    "from IPython.display import Image\n",
    "from IPython.core.display import HTML \n",
    "Image(url= \"https://upload.wikimedia.org/wikipedia/commons/4/4f/Standard_deviation_diagram.png\")"
   ]
  },
  {
   "cell_type": "code",
   "execution_count": 29,
   "metadata": {},
   "outputs": [
    {
     "data": {
      "image/png": "[encoded data removed]",
      "text/plain": [
       "<Figure size 432x288 with 1 Axes>"
      ]
     },
     "metadata": {
      "needs_background": "light"
     },
     "output_type": "display_data"
    }
   ],
   "source": [
    "class norm1:\n",
    "    def __init__(test, a1, b1, c1):\n",
    "        test.a1 = a1\n",
    "        test.b1 = b1\n",
    "        test.c1 = c1\n",
    "        \n",
    "    def dist_curve(test):\n",
    "        plt.plot(test.c1, 1/(test.b1 * np.sqrt(2 * np.pi)) *\n",
    "            np.exp( - (test.c1 - test.a1)**2 / (2 * test.b1**2) ), linewidth=2, color='y')\n",
    "        plt.show()\n",
    "\n",
    "#Vary the mean and SD to generate different plots\n",
    "mean = 5 \n",
    "sd = 2\n",
    "\n",
    "c = np.random.normal(mean, sd, 3000)\n",
    "        \n",
    "w1, x1, z1 = plt.hist(c, 100, density=True) #hist\n",
    "\n",
    "hist1 = norm1(mean, sd, x1)\n",
    "plot1 = hist1.dist_curve()"
   ]
  },
  {
   "cell_type": "markdown",
   "metadata": {},
   "source": [
    "### Uniform Distribution\n",
    "***"
   ]
  },
  {
   "cell_type": "markdown",
   "metadata": {},
   "source": [
    "Generates a random number between 0 and 1. \n",
    "\n",
    "\n",
    "The uniform distribution is a simpler probability distributions in statistics. It's a continuous distribution, this means that it takes values within a specified range, e.g. between 0 and 1. The number is normally a float value type if high or low but can be an integer; default value is 0.\n",
    "The probability density function for a uniform distribution taking values is:\n",
    "\n",
    "\n",
    "$ p(x) = \\frac{1}{b-a} $\n",
    "\n",
    "anywhere within the interval a, b and 0 elsewhere. \n",
    "\n",
    "\n",
    "When $ high == low $, values of low will be returned. If high < low, the results are undefined and may eventually lead to an error. an error."
   ]
  },
  {
   "cell_type": "code",
   "execution_count": 10,
   "metadata": {},
   "outputs": [
    {
     "data": {
      "text/plain": [
       "0.041718341503486744"
      ]
     },
     "execution_count": 10,
     "metadata": {},
     "output_type": "execute_result"
    }
   ],
   "source": [
    "np.random.uniform()"
   ]
  },
  {
   "cell_type": "markdown",
   "metadata": {},
   "source": [
    "Generates a random number between the 2 parameter values."
   ]
  },
  {
   "cell_type": "code",
   "execution_count": 11,
   "metadata": {},
   "outputs": [
    {
     "data": {
      "text/plain": [
       "1.3875885277410336"
      ]
     },
     "execution_count": 11,
     "metadata": {},
     "output_type": "execute_result"
    }
   ],
   "source": [
    "np.random.uniform(1,4)"
   ]
  },
  {
   "cell_type": "markdown",
   "metadata": {},
   "source": []
  },
  {
   "cell_type": "code",
   "execution_count": 12,
   "metadata": {},
   "outputs": [],
   "source": [
    "uniNum = np.random.uniform(-1,1,7)"
   ]
  },
  {
   "cell_type": "markdown",
   "metadata": {},
   "source": []
  },
  {
   "cell_type": "code",
   "execution_count": 13,
   "metadata": {},
   "outputs": [
    {
     "data": {
      "image/png": "[encoded data removed]",
      "text/plain": [
       "<Figure size 432x288 with 1 Axes>"
      ]
     },
     "metadata": {
      "needs_background": "light"
     },
     "output_type": "display_data"
    }
   ],
   "source": [
    "count, bins, ignored = plt.hist(uniNum, 15, density=True)\n",
    "plt.plot(bins, np.ones_like(bins), linewidth=8, color='r')\n",
    "plt.show()"
   ]
  },
  {
   "cell_type": "markdown",
   "metadata": {},
   "source": [
    "### Binominal Distribution\n",
    "***"
   ]
  },
  {
   "cell_type": "markdown",
   "metadata": {},
   "source": [
    "A binomial distribution can be defined as simply the probability of a success or failure outcome in an experiment or survey that is repeated multiple times. The binomial is a type of distribution that has only those two possible outcomes. (the prefix 'bi' means two, or twice). "
   ]
  },
  {
   "cell_type": "markdown",
   "metadata": {},
   "source": [
    "For example, a coin toss has only two possible outcomes: heads(0) or tails(1) and taking a test could have two possible outcomes: pass or fail."
   ]
  },
  {
   "cell_type": "code",
   "execution_count": 14,
   "metadata": {},
   "outputs": [
    {
     "data": {
      "text/plain": [
       "array([0, 1, 0, 1, 1, 1, 1, 1, 1, 1])"
      ]
     },
     "execution_count": 14,
     "metadata": {},
     "output_type": "execute_result"
    }
   ],
   "source": [
    "tails, prob = 1, 0.5  # number of trials, probability of each trial\n",
    "toss = np.random.binomial(tails, prob, 10)\n",
    "toss"
   ]
  },
  {
   "cell_type": "code",
   "execution_count": 15,
   "metadata": {},
   "outputs": [
    {
     "data": {
      "image/png": "[encoded data removed]",
      "text/plain": [
       "<Figure size 432x288 with 2 Axes>"
      ]
     },
     "metadata": {
      "needs_background": "light"
     },
     "output_type": "display_data"
    }
   ],
   "source": [
    "# tweak n, p, nPoints and observe the result.\n",
    "n = 2\n",
    "p = 0.5\n",
    "nPoints = 10\n",
    "xBinom = np.random.binomial(n,p,size=nPoints)\n",
    "\n",
    "# Let's plot up the distribution.\n",
    "plt.figure()\n",
    "plt.subplot(121)\n",
    "plt.plot(xBinom, 'bo', alpha=0.5)\n",
    "plt.ylim(0,np.max(xBinom)+1)\n",
    "plt.xlabel('Row number')\n",
    "plt.ylabel('r successes')\n",
    "plt.grid()\n",
    "plt.subplot(122)\n",
    "nB, dum, dum = plt.hist(xBinom, bins=25,color='b',alpha=0.5)\n",
    "#plt.xlim(0,n)\n",
    "plt.xlabel('r successes')\n",
    "plt.ylabel('N(r successes)')\n",
    "plt.title('n=%i, p=%.2f, N=%i \"experiments\"' % (n,p,nPoints))\n",
    "plt.grid()"
   ]
  },
  {
   "cell_type": "markdown",
   "metadata": {},
   "source": [
    "### Standard Exponential Distribution\n",
    "***"
   ]
  },
  {
   "cell_type": "markdown",
   "metadata": {},
   "source": [
    "Exponential distribution is a special case of the gamma distribution. Exponential distribution is used to describe the time between a single Poisson event whereas gamma distribution is the waiting time for more than one event. "
   ]
  },
  {
   "cell_type": "code",
   "execution_count": 16,
   "metadata": {},
   "outputs": [
    {
     "data": {
      "text/plain": [
       "array([[2.00470004, 1.97748631],\n",
       "       [1.65678342, 0.8142588 ]])"
      ]
     },
     "execution_count": 16,
     "metadata": {},
     "output_type": "execute_result"
    }
   ],
   "source": [
    "n = np.random.standard_exponential((2,2))\n",
    "n"
   ]
  },
  {
   "cell_type": "markdown",
   "metadata": {},
   "source": [
    "### Triangular Distribution\n",
    "***"
   ]
  },
  {
   "cell_type": "markdown",
   "metadata": {},
   "source": [
    "A triangular distribution is a continuous probability distribution with a probability density function shaped like a triangle. It is defined by three values: the minimum value a, the maximum value b, and the peak value c; where a < b and a ≤ c ≤ b.\n",
    "This can be useful when maximum and minimum vaues are estimated when the mean and standard deviation are both unknown. The triangular distribution had a minimum limit and and maximum limit which avoids issues with over/under estimating values. Triangular distribution is also useful to display distorted values."
   ]
  },
  {
   "cell_type": "code",
   "execution_count": 17,
   "metadata": {},
   "outputs": [
    {
     "data": {
      "image/png": "[encoded data removed]",
      "text/plain": [
       "<Figure size 432x288 with 1 Axes>"
      ]
     },
     "metadata": {
      "needs_background": "light"
     },
     "output_type": "display_data"
    }
   ],
   "source": [
    "import matplotlib.pyplot as plt\n",
    "h = plt.hist(np.random.triangular(-4, 0, 8, 100000), bins=500, density=True)\n",
    "plt.show()"
   ]
  },
  {
   "cell_type": "code",
   "execution_count": 18,
   "metadata": {},
   "outputs": [
    {
     "data": {
      "text/plain": [
       "array([[0., 4., 4., 3.],\n",
       "       [6., 2., 2., 2.],\n",
       "       [7., 5., 9., 3.]])"
      ]
     },
     "execution_count": 18,
     "metadata": {},
     "output_type": "execute_result"
    }
   ],
   "source": [
    "a = np.floor(10*np.random.random((3,4)))\n",
    "a\n",
    "#a.shape"
   ]
  },
  {
   "cell_type": "markdown",
   "metadata": {},
   "source": [
    "### Poisson Distribution\n",
    "***"
   ]
  },
  {
   "cell_type": "markdown",
   "metadata": {},
   "source": [
    "The Poisson distribution is a probability distribution that expresses the probability of a given number of events occurring in a fixed interval of time or space if these events occur with a known constant rate and independently of the time since the last event. \n",
    "\n",
    "\n",
    "##### Probability of events for a Poisson distribution:\n",
    "\n",
    "An event can occur 0, 1, 2, … times in an interval. The average number of events in an interval is designated ${\\lambda }$ (lambda). Lambda is the event rate, also called the rate parameter. The probability of observing k events in an interval is given by the equation.\n",
    "\n",
    "$ {\\displaystyle P(k{\\text{ events in interval}})=e^{-\\lambda }{\\frac {\\lambda ^{k}}{k!}}} $\n",
    " \n",
    "where\n",
    "\n",
    "- $ \\lambda $ is the average number of events per interval\n",
    "- $ e $ is the number $2.71828... $(Euler's number) the base of the natural logarithms\n",
    "- $ k $ takes values $ 0, 1, 2, … $\n",
    "- $ k! = k × (k − 1) × (k − 2) × … × 2 × 1 $ is the factorial of $ k $."
   ]
  },
  {
   "cell_type": "markdown",
   "metadata": {},
   "source": [
    "poison explanation"
   ]
  },
  {
   "cell_type": "code",
   "execution_count": 19,
   "metadata": {},
   "outputs": [
    {
     "data": {
      "image/png": "[encoded data removed]",
      "text/plain": [
       "<Figure size 432x288 with 1 Axes>"
      ]
     },
     "metadata": {
      "needs_background": "light"
     },
     "output_type": "display_data"
    }
   ],
   "source": [
    "#Poisson example\n",
    "import numpy as np\n",
    "ses = np.random.poisson(5, 10000)\n",
    "#Display histogram of the sample:\n",
    "import matplotlib.pyplot as plt\n",
    "count, bins, ignored = plt.hist(ses, 18, density=True)\n",
    "plt.show()"
   ]
  },
  {
   "cell_type": "markdown",
   "metadata": {},
   "source": [
    "### Gamma Distribution\n",
    "***"
   ]
  },
  {
   "cell_type": "markdown",
   "metadata": {},
   "source": [
    "Gamma distribution is a two-parameter family of continuous probability distributions. \n",
    "\n",
    "Samples are drawn from a Gamma distribution with specified parameters, shape (sometimes designated “k”) and scale (sometimes designated “theta”), where both parameters are > 0.\n",
    "\n",
    "The exponential distribution, Erlang distribution, and chi-squared distribution are special cases of the gamma distribution. There are three different parametrizations in common use: \n",
    "\n",
    "- With a shape parameter k and a scale parameter.\n",
    "- With a shape parameter α = k and an inverse scale parameter, called a rate parameter.\n",
    "- With a shape parameter k and a mean parameter.\n",
    "\n"
   ]
  },
  {
   "cell_type": "code",
   "execution_count": 20,
   "metadata": {},
   "outputs": [
    {
     "data": {
      "text/plain": [
       "[<matplotlib.lines.Line2D at 0x1bfc4f0e0f0>]"
      ]
     },
     "execution_count": 20,
     "metadata": {},
     "output_type": "execute_result"
    },
    {
     "data": {
      "image/png": "[encoded data removed]",
      "text/plain": [
       "<Figure size 432x288 with 1 Axes>"
      ]
     },
     "metadata": {
      "needs_background": "light"
     },
     "output_type": "display_data"
    }
   ],
   "source": [
    "shape, scale = 2., 1. # mean and width\n",
    "s = np.random.standard_gamma(shape, 1000000)\n",
    "#Display the histogram of the samples, along with the probability density function:\n",
    "\n",
    "import matplotlib.pyplot as plt\n",
    "import scipy.special as sps\n",
    "count, bins, ignored = plt.hist(s, 50, density=True)\n",
    "y = bins**(shape-1) * ((np.exp(-bins/scale))/ (sps.gamma(shape) * scale**shape))\n",
    "plt.plot(bins, y, linewidth=2, color='r')"
   ]
  },
  {
   "cell_type": "markdown",
   "metadata": {},
   "source": [
    "### Pareto Distribution\n",
    "***"
   ]
  },
  {
   "cell_type": "markdown",
   "metadata": {},
   "source": [
    "The Pareto distribution is a power-law probability distribution that is used in description of social, scientific, geophysical, actuarial, and many other types of observable change. The Pareto distribution is defined by a shape parameter(aka slope parameter or Pareto Index) and a location parameter. It originally had two main applications:\n",
    "\n",
    "- To model the distribution of incomes.\n",
    "- To model the distribution of city populations.\n",
    "\n",
    "The Pareto distribution is expressed as: <br><br>\n",
    "$ F(x) = 1 – (^k/_x)^α $\n",
    "\n",
    "where <br>\n",
    "x is the random variable <br>\n",
    "k is the lower bound of the data <br>\n",
    "α is the shape parameter\n",
    "\n",
    "#### The Pareto Principle\n",
    "The Pareto Principle is derived from the Pareto distribution and is used to illustrate that many things are not distributed evenly.\n",
    "This rule states that, for example, 80% of the number of bugs in a program is in 20% of the code. Essentially meaning that 80 percent of consequences come from 20 percent of the causes. However, the Pareto distribution only produces this result for a particular power value, α (α = log45 ≈ 1.16)."
   ]
  },
  {
   "cell_type": "code",
   "execution_count": 21,
   "metadata": {},
   "outputs": [
    {
     "data": {
      "image/png": "[encoded data removed]",
      "text/plain": [
       "<Figure size 432x288 with 1 Axes>"
      ]
     },
     "metadata": {
      "needs_background": "light"
     },
     "output_type": "display_data"
    },
    {
     "data": {
      "text/plain": [
       "Text(0.5,1,'inverse of stats.pareto(5)')"
      ]
     },
     "execution_count": 21,
     "metadata": {},
     "output_type": "execute_result"
    },
    {
     "data": {
      "image/png": "[encoded data removed]",
      "text/plain": [
       "<Figure size 432x288 with 1 Axes>"
      ]
     },
     "metadata": {
      "needs_background": "light"
     },
     "output_type": "display_data"
    },
    {
     "data": {
      "image/png": "[encoded data removed]",
      "text/plain": [
       "<Figure size 432x288 with 1 Axes>"
      ]
     },
     "metadata": {
      "needs_background": "light"
     },
     "output_type": "display_data"
    },
    {
     "data": {
      "image/png": "[encoded data removed]",
      "text/plain": [
       "<Figure size 432x288 with 1 Axes>"
      ]
     },
     "metadata": {
      "needs_background": "light"
     },
     "output_type": "display_data"
    }
   ],
   "source": [
    "import numpy as np\n",
    "\n",
    "a = 5. # shape\n",
    "samples = 1000\n",
    "s = np.random.power(a, samples)\n",
    "#Display the histogram of the samples, along with the probability density function:\n",
    "\n",
    "\n",
    "import matplotlib.pyplot as plt\n",
    "count, bins, ignored = plt.hist(s, bins=30)\n",
    "x = np.linspace(0, 1, 100)\n",
    "y = a*x**(a-1.)\n",
    "normed_y = samples*np.diff(bins)[0]*y\n",
    "plt.plot(x, normed_y)\n",
    "plt.show()\n",
    "\n",
    "\n",
    "from scipy import stats\n",
    "rvs = np.random.power(5, 1000000)\n",
    "rvsp = np.random.pareto(5, 1000000)\n",
    "xx = np.linspace(0,1,100)\n",
    "powpdf = stats.powerlaw.pdf(xx,5)\n",
    "\n",
    "plt.figure()\n",
    "plt.hist(rvs, bins=50, density=True)\n",
    "plt.plot(xx,powpdf,'r-')\n",
    "plt.title('np.random.power(5)')\n",
    "\n",
    "plt.figure()\n",
    "plt.hist(1./(1.+rvsp), bins=50, density=True)\n",
    "plt.plot(xx,powpdf,'r-')\n",
    "plt.title('inverse of 1 + np.random.pareto(5)')\n",
    "\n",
    "plt.figure()\n",
    "plt.hist(1./(1.+rvsp), bins=50, density=True)\n",
    "plt.plot(xx,powpdf,'r-')\n",
    "plt.title('inverse of stats.pareto(5)')"
   ]
  },
  {
   "cell_type": "markdown",
   "metadata": {},
   "source": [
    "### Random Renerator - Seed"
   ]
  },
  {
   "cell_type": "markdown",
   "metadata": {},
   "source": [
    "Random number by python random module are deterministically random. A deterministic model of computation is when successive states and operations on a machine are determined by the preceding value and therefore are not truly random. \n",
    "It generates the numbers on the basis of a value. This value is called a seed value. Numbers generated by the random module depend on this seed value. \n",
    "The seed value normally is the previous number generated by the generator. But when the generator is first ran it cannot recieve this seed value as its not possible to find one. A seed value can initialize this random number generator. Random seeds are can be generated in a number of ways such as a state of the computer system (such as time which is Python's default method), a cryptographically secure pseudorandom number generator or from a hardware random number generator. "
   ]
  },
  {
   "cell_type": "code",
   "execution_count": 22,
   "metadata": {},
   "outputs": [
    {
     "name": "stdout",
     "output_type": "stream",
     "text": [
      "Random number with seed 40\n",
      "first -  39\n",
      "Second -  43\n",
      "Third -  42\n"
     ]
    }
   ],
   "source": [
    "import random\n",
    "print (\"Random number with seed 40\")\n",
    "random.seed( 40 ) #first call\n",
    "print (\"first - \", random.randint(25,50))\n",
    "#generate a different random number as previous value is used as a seed\n",
    "print (\"Second - \", random.randint(25,50))\n",
    "#will generate a same random number as first one because seed value is same\n",
    "random.seed( 30 ) # second call\n",
    "print (\"Third - \", random.randint(25,50))"
   ]
  },
  {
   "cell_type": "code",
   "execution_count": null,
   "metadata": {},
   "outputs": [],
   "source": []
  },
  {
   "cell_type": "code",
   "execution_count": null,
   "metadata": {},
   "outputs": [],
   "source": []
  }
 ],
 "metadata": {
  "kernelspec": {
   "display_name": "Python 3",
   "language": "python",
   "name": "python3"
  },
  "language_info": {
   "codemirror_mode": {
    "name": "ipython",
    "version": 3
   },
   "file_extension": ".py",
   "mimetype": "text/x-python",
   "name": "python",
   "nbconvert_exporter": "python",
   "pygments_lexer": "ipython3",
   "version": "3.6.6"
  }
 },
 "nbformat": 4,
 "nbformat_minor": 2
}
